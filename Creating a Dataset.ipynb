{
 "cells": [
  {
   "cell_type": "code",
   "execution_count": 1,
   "metadata": {},
   "outputs": [
    {
     "name": "stdout",
     "output_type": "stream",
     "text": [
      "pygame 1.9.6\n",
      "Hello from the pygame community. https://www.pygame.org/contribute.html\n"
     ]
    }
   ],
   "source": [
    "import numpy as np\n",
    "from Environment import Tetris"
   ]
  },
  {
   "cell_type": "code",
   "execution_count": 2,
   "metadata": {},
   "outputs": [],
   "source": [
    "np.random.seed(42)"
   ]
  },
  {
   "cell_type": "code",
   "execution_count": 3,
   "metadata": {},
   "outputs": [],
   "source": [
    "env = Tetris()"
   ]
  },
  {
   "cell_type": "code",
   "execution_count": 4,
   "metadata": {},
   "outputs": [
    {
     "name": "stdout",
     "output_type": "stream",
     "text": [
      "History lenght: 2010"
     ]
    }
   ],
   "source": [
    "memory = env.play()"
   ]
  },
  {
   "cell_type": "code",
   "execution_count": 5,
   "metadata": {},
   "outputs": [],
   "source": [
    "import pandas as pd"
   ]
  },
  {
   "cell_type": "code",
   "execution_count": 22,
   "metadata": {},
   "outputs": [],
   "source": [
    "state, action, reward, next_state, done = [[memory[index][field_index] for index in range(len(memory))] for field_index in range(5)]"
   ]
  },
  {
   "cell_type": "code",
   "execution_count": 41,
   "metadata": {},
   "outputs": [],
   "source": [
    "state_string = []\n",
    "next_state_string = []\n",
    "\n",
    "for i in range(len(state)):\n",
    "    string_a = \"\"\n",
    "    string_b = \"\"\n",
    "    for j in range(200):\n",
    "        string_a += str(int(state[i][j]))\n",
    "        string_b += str(int(next_state[i][j]))\n",
    "    state_string.append(string_a)\n",
    "    next_state_string.append(string_b)"
   ]
  },
  {
   "cell_type": "code",
   "execution_count": 45,
   "metadata": {},
   "outputs": [],
   "source": [
    "dataset = pd.DataFrame(columns=['state', 'action', 'reward', 'next_state', 'done'])"
   ]
  },
  {
   "cell_type": "code",
   "execution_count": 48,
   "metadata": {},
   "outputs": [],
   "source": [
    "dataset['state'] = state_string\n",
    "dataset['action'] = action\n",
    "dataset['reward'] = reward\n",
    "dataset['next_state'] = next_state_string\n",
    "dataset['done'] = done"
   ]
  },
  {
   "cell_type": "code",
   "execution_count": 49,
   "metadata": {},
   "outputs": [
    {
     "data": {
      "text/html": [
       "<div>\n",
       "<style scoped>\n",
       "    .dataframe tbody tr th:only-of-type {\n",
       "        vertical-align: middle;\n",
       "    }\n",
       "\n",
       "    .dataframe tbody tr th {\n",
       "        vertical-align: top;\n",
       "    }\n",
       "\n",
       "    .dataframe thead th {\n",
       "        text-align: right;\n",
       "    }\n",
       "</style>\n",
       "<table border=\"1\" class=\"dataframe\">\n",
       "  <thead>\n",
       "    <tr style=\"text-align: right;\">\n",
       "      <th></th>\n",
       "      <th>state</th>\n",
       "      <th>action</th>\n",
       "      <th>reward</th>\n",
       "      <th>next_state</th>\n",
       "      <th>done</th>\n",
       "    </tr>\n",
       "  </thead>\n",
       "  <tbody>\n",
       "    <tr>\n",
       "      <th>0</th>\n",
       "      <td>0001000000000110000000001000000000000000000000...</td>\n",
       "      <td>0</td>\n",
       "      <td>1</td>\n",
       "      <td>0000000000000100000000011000000000100000000000...</td>\n",
       "      <td>False</td>\n",
       "    </tr>\n",
       "    <tr>\n",
       "      <th>1</th>\n",
       "      <td>0000000000000100000000011000000000100000000000...</td>\n",
       "      <td>0</td>\n",
       "      <td>1</td>\n",
       "      <td>0000000000000000000000010000000001100000000010...</td>\n",
       "      <td>False</td>\n",
       "    </tr>\n",
       "    <tr>\n",
       "      <th>2</th>\n",
       "      <td>0000000000000000000000010000000001100000000010...</td>\n",
       "      <td>4</td>\n",
       "      <td>1</td>\n",
       "      <td>0000000000000000000000000000000000000000000011...</td>\n",
       "      <td>False</td>\n",
       "    </tr>\n",
       "    <tr>\n",
       "      <th>3</th>\n",
       "      <td>0000000000000000000000000000000000000000000011...</td>\n",
       "      <td>0</td>\n",
       "      <td>1</td>\n",
       "      <td>0000000000000000000000000000000000000000000000...</td>\n",
       "      <td>False</td>\n",
       "    </tr>\n",
       "    <tr>\n",
       "      <th>4</th>\n",
       "      <td>0000000000000000000000000000000000000000000000...</td>\n",
       "      <td>2</td>\n",
       "      <td>1</td>\n",
       "      <td>0000000000000000000000000000000000000000000000...</td>\n",
       "      <td>False</td>\n",
       "    </tr>\n",
       "  </tbody>\n",
       "</table>\n",
       "</div>"
      ],
      "text/plain": [
       "                                               state  action  reward  \\\n",
       "0  0001000000000110000000001000000000000000000000...       0       1   \n",
       "1  0000000000000100000000011000000000100000000000...       0       1   \n",
       "2  0000000000000000000000010000000001100000000010...       4       1   \n",
       "3  0000000000000000000000000000000000000000000011...       0       1   \n",
       "4  0000000000000000000000000000000000000000000000...       2       1   \n",
       "\n",
       "                                          next_state   done  \n",
       "0  0000000000000100000000011000000000100000000000...  False  \n",
       "1  0000000000000000000000010000000001100000000010...  False  \n",
       "2  0000000000000000000000000000000000000000000011...  False  \n",
       "3  0000000000000000000000000000000000000000000000...  False  \n",
       "4  0000000000000000000000000000000000000000000000...  False  "
      ]
     },
     "execution_count": 49,
     "metadata": {},
     "output_type": "execute_result"
    }
   ],
   "source": [
    "dataset.head()"
   ]
  },
  {
   "cell_type": "code",
   "execution_count": 50,
   "metadata": {},
   "outputs": [],
   "source": [
    "dataset.to_csv('dataset_tetris.csv')"
   ]
  },
  {
   "cell_type": "code",
   "execution_count": null,
   "metadata": {},
   "outputs": [],
   "source": []
  }
 ],
 "metadata": {
  "kernelspec": {
   "display_name": "Python 3",
   "language": "python",
   "name": "python3"
  },
  "language_info": {
   "codemirror_mode": {
    "name": "ipython",
    "version": 3
   },
   "file_extension": ".py",
   "mimetype": "text/x-python",
   "name": "python",
   "nbconvert_exporter": "python",
   "pygments_lexer": "ipython3",
   "version": "3.7.6"
  }
 },
 "nbformat": 4,
 "nbformat_minor": 4
}
